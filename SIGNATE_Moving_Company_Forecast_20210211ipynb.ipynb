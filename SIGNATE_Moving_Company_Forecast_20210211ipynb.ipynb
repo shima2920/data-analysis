{
  "nbformat": 4,
  "nbformat_minor": 0,
  "metadata": {
    "colab": {
      "name": "SIGNATE_Moving_Company_Forecast_20210211ipynb",
      "provenance": [],
      "collapsed_sections": [],
      "toc_visible": true,
      "authorship_tag": "ABX9TyMDjFKbnSlaSzvdN8d9+npo",
      "include_colab_link": true
    },
    "kernelspec": {
      "name": "python3",
      "display_name": "Python 3"
    }
  },
  "cells": [
    {
      "cell_type": "markdown",
      "metadata": {
        "id": "view-in-github",
        "colab_type": "text"
      },
      "source": [
        "<a href=\"https://colab.research.google.com/github/shima2920/data-analysis/blob/main/SIGNATE_Moving_Company_Forecast_20210211ipynb.ipynb\" target=\"_parent\"><img src=\"https://colab.research.google.com/assets/colab-badge.svg\" alt=\"Open In Colab\"/></a>"
      ]
    },
    {
      "cell_type": "markdown",
      "metadata": {
        "id": "1Im4ZFY_uT7i"
      },
      "source": [
        "# Apple Moving Company demand forecast\r\n",
        "https://signate.jp/competitions/269/data"
      ]
    },
    {
      "cell_type": "code",
      "metadata": {
        "colab": {
          "base_uri": "https://localhost:8080/"
        },
        "id": "Fjhgy2WpvIgG",
        "outputId": "f69ca16c-c8dd-4047-8c86-bc3b915ed9bc"
      },
      "source": [
        "#from tqdm import tqdm\r\n",
        "import numpy as np # linear algebra\r\n",
        "import pandas as pd # data processing, CSV file I/O (e.g. pd.read_csv)\r\n",
        "from sklearn import preprocessing\r\n",
        "from sklearn.preprocessing import LabelEncoder#Label Encoding\r\n",
        "from sklearn.model_selection import train_test_split\r\n",
        "from mpl_toolkits.mplot3d import Axes3D\r\n",
        "import seaborn as sns\r\n",
        "from matplotlib import pyplot as plt\r\n",
        "from sklearn.linear_model import LinearRegression\r\n",
        "from sklearn.linear_model import LogisticRegression\r\n",
        "from sklearn.ensemble import RandomForestClassifier\r\n",
        "from sklearn.ensemble import RandomForestRegressor\r\n",
        "from sklearn.ensemble import ExtraTreesClassifier\r\n",
        "from sklearn.metrics import mean_squared_error\r\n",
        "import lightgbm as lgb\r\n",
        "#import optuna.integration.lightgbm as lgb #LightLGBのハイパーパラメータチューニングモジュールであるOptunaをimport\r\n",
        "import lightgbm as lgb_original\r\n",
        "import xgboost as xgb\r\n",
        "from sklearn.model_selection import GridSearchCV\r\n",
        "import xgboost as XGBClassifier\r\n",
        "from sklearn.model_selection import train_test_split\r\n",
        "\r\n",
        "from keras.layers import Dense, Dropout #Dense : ニューラルネットの層を定義？\r\n",
        "from keras.models import Sequential# 複雑なニューラルネットワークモデルを簡略化するためのモデルの一つであるSequentialモデル\r\n",
        "from sklearn.preprocessing import StandardScaler #標準化\r\n",
        "\r\n",
        "\r\n",
        "\r\n",
        "#Validation\r\n",
        "from sklearn.metrics import log_loss, accuracy_score\r\n",
        "from sklearn.model_selection import KFold\r\n",
        "\r\n",
        "\r\n",
        "#イテレータ, ループ処理を実行してくれる\r\n",
        "import itertools\r\n",
        "\r\n",
        "pd.set_option(\"display.max_rows\", 10000)\r\n",
        "pd.set_option('display.max_columns', 1000)\r\n",
        "%matplotlib inline"
      ],
      "execution_count": 17,
      "outputs": [
        {
          "output_type": "stream",
          "text": [
            "/usr/local/lib/python3.6/dist-packages/requests/__init__.py:91: RequestsDependencyWarning: urllib3 (1.26.3) or chardet (3.0.4) doesn't match a supported version!\n",
            "  RequestsDependencyWarning)\n"
          ],
          "name": "stderr"
        }
      ]
    },
    {
      "cell_type": "markdown",
      "metadata": {
        "id": "5vddo2B-vD4y"
      },
      "source": [
        "## Import train and test data"
      ]
    },
    {
      "cell_type": "code",
      "metadata": {
        "id": "p5PZekJIuZtV"
      },
      "source": [
        "train = pd.read_csv('train.csv')\r\n",
        "test = pd.read_csv('test.csv')\r\n",
        "sample_submission = pd.read_csv('sample_submit.csv')"
      ],
      "execution_count": 19,
      "outputs": []
    },
    {
      "cell_type": "markdown",
      "metadata": {
        "id": "UFF-sXazvRof"
      },
      "source": [
        "# Checking data"
      ]
    },
    {
      "cell_type": "code",
      "metadata": {
        "colab": {
          "base_uri": "https://localhost:8080/",
          "height": 197
        },
        "id": "MQJcN2LivGRQ",
        "outputId": "d46adcc8-b8a5-4660-b503-bc5f7fbb9d9c"
      },
      "source": [
        "train.head()"
      ],
      "execution_count": 20,
      "outputs": [
        {
          "output_type": "execute_result",
          "data": {
            "text/html": [
              "<div>\n",
              "<style scoped>\n",
              "    .dataframe tbody tr th:only-of-type {\n",
              "        vertical-align: middle;\n",
              "    }\n",
              "\n",
              "    .dataframe tbody tr th {\n",
              "        vertical-align: top;\n",
              "    }\n",
              "\n",
              "    .dataframe thead th {\n",
              "        text-align: right;\n",
              "    }\n",
              "</style>\n",
              "<table border=\"1\" class=\"dataframe\">\n",
              "  <thead>\n",
              "    <tr style=\"text-align: right;\">\n",
              "      <th></th>\n",
              "      <th>datetime</th>\n",
              "      <th>y</th>\n",
              "      <th>client</th>\n",
              "      <th>close</th>\n",
              "      <th>price_am</th>\n",
              "      <th>price_pm</th>\n",
              "    </tr>\n",
              "  </thead>\n",
              "  <tbody>\n",
              "    <tr>\n",
              "      <th>0</th>\n",
              "      <td>2010/7/1</td>\n",
              "      <td>17</td>\n",
              "      <td>0</td>\n",
              "      <td>0</td>\n",
              "      <td>-1</td>\n",
              "      <td>-1</td>\n",
              "    </tr>\n",
              "    <tr>\n",
              "      <th>1</th>\n",
              "      <td>2010/7/2</td>\n",
              "      <td>18</td>\n",
              "      <td>0</td>\n",
              "      <td>0</td>\n",
              "      <td>-1</td>\n",
              "      <td>-1</td>\n",
              "    </tr>\n",
              "    <tr>\n",
              "      <th>2</th>\n",
              "      <td>2010/7/3</td>\n",
              "      <td>20</td>\n",
              "      <td>0</td>\n",
              "      <td>0</td>\n",
              "      <td>-1</td>\n",
              "      <td>-1</td>\n",
              "    </tr>\n",
              "    <tr>\n",
              "      <th>3</th>\n",
              "      <td>2010/7/4</td>\n",
              "      <td>20</td>\n",
              "      <td>0</td>\n",
              "      <td>0</td>\n",
              "      <td>-1</td>\n",
              "      <td>-1</td>\n",
              "    </tr>\n",
              "    <tr>\n",
              "      <th>4</th>\n",
              "      <td>2010/7/5</td>\n",
              "      <td>14</td>\n",
              "      <td>0</td>\n",
              "      <td>0</td>\n",
              "      <td>-1</td>\n",
              "      <td>-1</td>\n",
              "    </tr>\n",
              "  </tbody>\n",
              "</table>\n",
              "</div>"
            ],
            "text/plain": [
              "   datetime   y  client  close  price_am  price_pm\n",
              "0  2010/7/1  17       0      0        -1        -1\n",
              "1  2010/7/2  18       0      0        -1        -1\n",
              "2  2010/7/3  20       0      0        -1        -1\n",
              "3  2010/7/4  20       0      0        -1        -1\n",
              "4  2010/7/5  14       0      0        -1        -1"
            ]
          },
          "metadata": {
            "tags": []
          },
          "execution_count": 20
        }
      ]
    },
    {
      "cell_type": "markdown",
      "metadata": {
        "id": "1IATMCmVw-H3"
      },
      "source": [
        "![image.png](data:image/png;base64,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)\r\n"
      ]
    },
    {
      "cell_type": "code",
      "metadata": {
        "colab": {
          "base_uri": "https://localhost:8080/",
          "height": 197
        },
        "id": "Cc64iUFGvQh5",
        "outputId": "721f2d3c-60bb-4143-be0d-18ad80146a7a"
      },
      "source": [
        "test.head()"
      ],
      "execution_count": 21,
      "outputs": [
        {
          "output_type": "execute_result",
          "data": {
            "text/html": [
              "<div>\n",
              "<style scoped>\n",
              "    .dataframe tbody tr th:only-of-type {\n",
              "        vertical-align: middle;\n",
              "    }\n",
              "\n",
              "    .dataframe tbody tr th {\n",
              "        vertical-align: top;\n",
              "    }\n",
              "\n",
              "    .dataframe thead th {\n",
              "        text-align: right;\n",
              "    }\n",
              "</style>\n",
              "<table border=\"1\" class=\"dataframe\">\n",
              "  <thead>\n",
              "    <tr style=\"text-align: right;\">\n",
              "      <th></th>\n",
              "      <th>datetime</th>\n",
              "      <th>client</th>\n",
              "      <th>close</th>\n",
              "      <th>price_am</th>\n",
              "      <th>price_pm</th>\n",
              "    </tr>\n",
              "  </thead>\n",
              "  <tbody>\n",
              "    <tr>\n",
              "      <th>0</th>\n",
              "      <td>2016/4/1</td>\n",
              "      <td>1</td>\n",
              "      <td>0</td>\n",
              "      <td>3</td>\n",
              "      <td>2</td>\n",
              "    </tr>\n",
              "    <tr>\n",
              "      <th>1</th>\n",
              "      <td>2016/4/2</td>\n",
              "      <td>0</td>\n",
              "      <td>0</td>\n",
              "      <td>5</td>\n",
              "      <td>5</td>\n",
              "    </tr>\n",
              "    <tr>\n",
              "      <th>2</th>\n",
              "      <td>2016/4/3</td>\n",
              "      <td>1</td>\n",
              "      <td>0</td>\n",
              "      <td>2</td>\n",
              "      <td>2</td>\n",
              "    </tr>\n",
              "    <tr>\n",
              "      <th>3</th>\n",
              "      <td>2016/4/4</td>\n",
              "      <td>1</td>\n",
              "      <td>0</td>\n",
              "      <td>1</td>\n",
              "      <td>1</td>\n",
              "    </tr>\n",
              "    <tr>\n",
              "      <th>4</th>\n",
              "      <td>2016/4/5</td>\n",
              "      <td>0</td>\n",
              "      <td>0</td>\n",
              "      <td>1</td>\n",
              "      <td>1</td>\n",
              "    </tr>\n",
              "  </tbody>\n",
              "</table>\n",
              "</div>"
            ],
            "text/plain": [
              "   datetime  client  close  price_am  price_pm\n",
              "0  2016/4/1       1      0         3         2\n",
              "1  2016/4/2       0      0         5         5\n",
              "2  2016/4/3       1      0         2         2\n",
              "3  2016/4/4       1      0         1         1\n",
              "4  2016/4/5       0      0         1         1"
            ]
          },
          "metadata": {
            "tags": []
          },
          "execution_count": 21
        }
      ]
    },
    {
      "cell_type": "code",
      "metadata": {
        "colab": {
          "base_uri": "https://localhost:8080/",
          "height": 197
        },
        "id": "J2wC5hRsvWsN",
        "outputId": "b63e443d-ea84-4326-c3b9-921837b7f04c"
      },
      "source": [
        "sample_submission.head()"
      ],
      "execution_count": 24,
      "outputs": [
        {
          "output_type": "execute_result",
          "data": {
            "text/html": [
              "<div>\n",
              "<style scoped>\n",
              "    .dataframe tbody tr th:only-of-type {\n",
              "        vertical-align: middle;\n",
              "    }\n",
              "\n",
              "    .dataframe tbody tr th {\n",
              "        vertical-align: top;\n",
              "    }\n",
              "\n",
              "    .dataframe thead th {\n",
              "        text-align: right;\n",
              "    }\n",
              "</style>\n",
              "<table border=\"1\" class=\"dataframe\">\n",
              "  <thead>\n",
              "    <tr style=\"text-align: right;\">\n",
              "      <th></th>\n",
              "      <th>2016/4/1</th>\n",
              "      <th>65.98920574</th>\n",
              "    </tr>\n",
              "  </thead>\n",
              "  <tbody>\n",
              "    <tr>\n",
              "      <th>0</th>\n",
              "      <td>2016/4/2</td>\n",
              "      <td>73.076330</td>\n",
              "    </tr>\n",
              "    <tr>\n",
              "      <th>1</th>\n",
              "      <td>2016/4/3</td>\n",
              "      <td>62.837857</td>\n",
              "    </tr>\n",
              "    <tr>\n",
              "      <th>2</th>\n",
              "      <td>2016/4/4</td>\n",
              "      <td>57.607645</td>\n",
              "    </tr>\n",
              "    <tr>\n",
              "      <th>3</th>\n",
              "      <td>2016/4/5</td>\n",
              "      <td>56.316084</td>\n",
              "    </tr>\n",
              "    <tr>\n",
              "      <th>4</th>\n",
              "      <td>2016/4/6</td>\n",
              "      <td>57.607645</td>\n",
              "    </tr>\n",
              "  </tbody>\n",
              "</table>\n",
              "</div>"
            ],
            "text/plain": [
              "   2016/4/1  65.98920574\n",
              "0  2016/4/2    73.076330\n",
              "1  2016/4/3    62.837857\n",
              "2  2016/4/4    57.607645\n",
              "3  2016/4/5    56.316084\n",
              "4  2016/4/6    57.607645"
            ]
          },
          "metadata": {
            "tags": []
          },
          "execution_count": 24
        }
      ]
    },
    {
      "cell_type": "code",
      "metadata": {
        "colab": {
          "base_uri": "https://localhost:8080/"
        },
        "id": "9WeRc3fmvcYm",
        "outputId": "05527bfa-dad0-441e-f4b7-ead444a8d236"
      },
      "source": [
        "print('Training Features shape: ', train.shape)\r\n",
        "print('Testing Features shape: ', test.shape)"
      ],
      "execution_count": 25,
      "outputs": [
        {
          "output_type": "stream",
          "text": [
            "Training Features shape:  (2101, 6)\n",
            "Testing Features shape:  (365, 5)\n"
          ],
          "name": "stdout"
        }
      ]
    },
    {
      "cell_type": "markdown",
      "metadata": {
        "id": "LwMNPumEv0n6"
      },
      "source": [
        "**data summary**"
      ]
    },
    {
      "cell_type": "code",
      "metadata": {
        "colab": {
          "base_uri": "https://localhost:8080/",
          "height": 245
        },
        "id": "bVMBR0tUvp3V",
        "outputId": "6dc88450-3dba-4807-ed97-e9107fa5e2d1"
      },
      "source": [
        "from scipy import stats\r\n",
        "def resumetable(df):\r\n",
        "    print(f\"Dataset Shape: {df.shape}\")\r\n",
        "    summary = pd.DataFrame(df.dtypes,columns=['dtypes'])\r\n",
        "    summary = summary.reset_index()\r\n",
        "    summary['Name'] = summary['index']\r\n",
        "    summary = summary[['Name','dtypes']]\r\n",
        "    summary['Missing'] = df.isnull().sum().values    \r\n",
        "    summary['Uniques'] = df.nunique().values\r\n",
        "    summary['First Value'] = df.loc[0].values\r\n",
        "    summary['Second Value'] = df.loc[1].values\r\n",
        "    summary['Third Value'] = df.loc[2].values\r\n",
        "\r\n",
        "    for name in summary['Name'].value_counts().index:\r\n",
        "        summary.loc[summary['Name'] == name, 'Entropy'] = round(stats.entropy(df[name].value_counts(normalize=True), base=2),2) \r\n",
        "\r\n",
        "    return summary\r\n",
        "\r\n",
        "resumetable(train)[:25]"
      ],
      "execution_count": 26,
      "outputs": [
        {
          "output_type": "stream",
          "text": [
            "Dataset Shape: (2101, 6)\n"
          ],
          "name": "stdout"
        },
        {
          "output_type": "execute_result",
          "data": {
            "text/html": [
              "<div>\n",
              "<style scoped>\n",
              "    .dataframe tbody tr th:only-of-type {\n",
              "        vertical-align: middle;\n",
              "    }\n",
              "\n",
              "    .dataframe tbody tr th {\n",
              "        vertical-align: top;\n",
              "    }\n",
              "\n",
              "    .dataframe thead th {\n",
              "        text-align: right;\n",
              "    }\n",
              "</style>\n",
              "<table border=\"1\" class=\"dataframe\">\n",
              "  <thead>\n",
              "    <tr style=\"text-align: right;\">\n",
              "      <th></th>\n",
              "      <th>Name</th>\n",
              "      <th>dtypes</th>\n",
              "      <th>Missing</th>\n",
              "      <th>Uniques</th>\n",
              "      <th>First Value</th>\n",
              "      <th>Second Value</th>\n",
              "      <th>Third Value</th>\n",
              "      <th>Entropy</th>\n",
              "    </tr>\n",
              "  </thead>\n",
              "  <tbody>\n",
              "    <tr>\n",
              "      <th>0</th>\n",
              "      <td>datetime</td>\n",
              "      <td>object</td>\n",
              "      <td>0</td>\n",
              "      <td>2101</td>\n",
              "      <td>2010/7/1</td>\n",
              "      <td>2010/7/2</td>\n",
              "      <td>2010/7/3</td>\n",
              "      <td>11.04</td>\n",
              "    </tr>\n",
              "    <tr>\n",
              "      <th>1</th>\n",
              "      <td>y</td>\n",
              "      <td>int64</td>\n",
              "      <td>0</td>\n",
              "      <td>99</td>\n",
              "      <td>17</td>\n",
              "      <td>18</td>\n",
              "      <td>20</td>\n",
              "      <td>6.01</td>\n",
              "    </tr>\n",
              "    <tr>\n",
              "      <th>2</th>\n",
              "      <td>client</td>\n",
              "      <td>int64</td>\n",
              "      <td>0</td>\n",
              "      <td>2</td>\n",
              "      <td>0</td>\n",
              "      <td>0</td>\n",
              "      <td>0</td>\n",
              "      <td>0.46</td>\n",
              "    </tr>\n",
              "    <tr>\n",
              "      <th>3</th>\n",
              "      <td>close</td>\n",
              "      <td>int64</td>\n",
              "      <td>0</td>\n",
              "      <td>2</td>\n",
              "      <td>0</td>\n",
              "      <td>0</td>\n",
              "      <td>0</td>\n",
              "      <td>0.10</td>\n",
              "    </tr>\n",
              "    <tr>\n",
              "      <th>4</th>\n",
              "      <td>price_am</td>\n",
              "      <td>int64</td>\n",
              "      <td>0</td>\n",
              "      <td>7</td>\n",
              "      <td>-1</td>\n",
              "      <td>-1</td>\n",
              "      <td>-1</td>\n",
              "      <td>2.03</td>\n",
              "    </tr>\n",
              "    <tr>\n",
              "      <th>5</th>\n",
              "      <td>price_pm</td>\n",
              "      <td>int64</td>\n",
              "      <td>0</td>\n",
              "      <td>7</td>\n",
              "      <td>-1</td>\n",
              "      <td>-1</td>\n",
              "      <td>-1</td>\n",
              "      <td>1.76</td>\n",
              "    </tr>\n",
              "  </tbody>\n",
              "</table>\n",
              "</div>"
            ],
            "text/plain": [
              "       Name  dtypes  Missing  Uniques First Value Second Value Third Value  \\\n",
              "0  datetime  object        0     2101    2010/7/1     2010/7/2    2010/7/3   \n",
              "1         y   int64        0       99          17           18          20   \n",
              "2    client   int64        0        2           0            0           0   \n",
              "3     close   int64        0        2           0            0           0   \n",
              "4  price_am   int64        0        7          -1           -1          -1   \n",
              "5  price_pm   int64        0        7          -1           -1          -1   \n",
              "\n",
              "   Entropy  \n",
              "0    11.04  \n",
              "1     6.01  \n",
              "2     0.46  \n",
              "3     0.10  \n",
              "4     2.03  \n",
              "5     1.76  "
            ]
          },
          "metadata": {
            "tags": []
          },
          "execution_count": 26
        }
      ]
    },
    {
      "cell_type": "markdown",
      "metadata": {
        "id": "4O-SpMkGv2h9"
      },
      "source": [
        "**check missing value**\r\n",
        "\r\n",
        "in these data, \"-1\" means missing value on columns price_am, price_pm"
      ]
    },
    {
      "cell_type": "code",
      "metadata": {
        "colab": {
          "base_uri": "https://localhost:8080/"
        },
        "id": "qLfSSdLExko4",
        "outputId": "0496faec-7f3e-4550-846d-192b6dbf6208"
      },
      "source": [
        "ms_count = train['price_am'].value_counts()\r\n",
        "percent = ((train.isnull().sum()/train.shape[0])*100).sort_values(ascending=False)\r\n",
        "print(ms_count)\r\n",
        "print(type(ms_count))\r\n",
        "print((211/train.shape[0])*100)"
      ],
      "execution_count": 41,
      "outputs": [
        {
          "output_type": "stream",
          "text": [
            " 0    945\n",
            " 1    587\n",
            " 2    250\n",
            "-1    211\n",
            " 3     46\n",
            " 4     33\n",
            " 5     29\n",
            "Name: price_am, dtype: int64\n",
            "<class 'pandas.core.series.Series'>\n",
            "10.042836744407426\n"
          ],
          "name": "stdout"
        }
      ]
    },
    {
      "cell_type": "markdown",
      "metadata": {
        "id": "kCnRMNRuwLoa"
      },
      "source": [
        "\r\n",
        "*   No missing value in train and test data\r\n",
        "\r\n"
      ]
    },
    {
      "cell_type": "markdown",
      "metadata": {
        "id": "ealLehAOwuFN"
      },
      "source": [
        "# Visualization"
      ]
    },
    {
      "cell_type": "code",
      "metadata": {
        "id": "2cBXJtBnwwJQ"
      },
      "source": [
        "fig, ax = plt.subplots(figsize=(80, 40))\r\n",
        "ax.plot(train[\"datetime\"], train[\"meter_reading\"])\r\n",
        "plt.xlabel(\"timestamp\", fontsize=10)\r\n",
        "plt.ylabel(\"meter\", fontsize=10)\r\n",
        "plt.xticks(fontsize=16)\r\n",
        "plt.yticks(fontsize=16)"
      ],
      "execution_count": null,
      "outputs": []
    }
  ]
}